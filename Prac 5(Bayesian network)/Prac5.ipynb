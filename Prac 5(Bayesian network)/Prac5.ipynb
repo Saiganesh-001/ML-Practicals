{
 "cells": [
  {
   "cell_type": "code",
   "execution_count": 9,
   "id": "d682cf29",
   "metadata": {},
   "outputs": [
    {
     "name": "stdout",
     "output_type": "stream",
     "text": [
      "Requirement already satisfied: pgmpy in c:\\users\\saiganesh\\anaconda3\\lib\\site-packages (0.1.26)\n",
      "Requirement already satisfied: scikit-learn in c:\\users\\saiganesh\\anaconda3\\lib\\site-packages (from pgmpy) (1.2.1)\n",
      "Requirement already satisfied: tqdm in c:\\users\\saiganesh\\anaconda3\\lib\\site-packages (from pgmpy) (4.64.1)\n",
      "Requirement already satisfied: pandas in c:\\users\\saiganesh\\anaconda3\\lib\\site-packages (from pgmpy) (1.5.3)\n",
      "Requirement already satisfied: xgboost in c:\\users\\saiganesh\\anaconda3\\lib\\site-packages (from pgmpy) (2.1.1)\n",
      "Requirement already satisfied: google-generativeai in c:\\users\\saiganesh\\anaconda3\\lib\\site-packages (from pgmpy) (0.8.3)\n",
      "Requirement already satisfied: scipy in c:\\users\\saiganesh\\anaconda3\\lib\\site-packages (from pgmpy) (1.10.0)\n",
      "Requirement already satisfied: torch in c:\\users\\saiganesh\\anaconda3\\lib\\site-packages (from pgmpy) (1.12.1)\n",
      "Requirement already satisfied: networkx in c:\\users\\saiganesh\\anaconda3\\lib\\site-packages (from pgmpy) (2.8.4)\n",
      "Requirement already satisfied: pyparsing in c:\\users\\saiganesh\\anaconda3\\lib\\site-packages (from pgmpy) (3.0.9)\n",
      "Requirement already satisfied: statsmodels in c:\\users\\saiganesh\\anaconda3\\lib\\site-packages (from pgmpy) (0.13.5)\n",
      "Requirement already satisfied: opt-einsum in c:\\users\\saiganesh\\anaconda3\\lib\\site-packages (from pgmpy) (3.3.0)\n",
      "Requirement already satisfied: joblib in c:\\users\\saiganesh\\anaconda3\\lib\\site-packages (from pgmpy) (1.1.1)\n",
      "Requirement already satisfied: numpy in c:\\users\\saiganesh\\anaconda3\\lib\\site-packages (from pgmpy) (1.23.5)\n",
      "Requirement already satisfied: protobuf in c:\\users\\saiganesh\\anaconda3\\lib\\site-packages (from google-generativeai->pgmpy) (5.28.2)\n",
      "Requirement already satisfied: pydantic in c:\\users\\saiganesh\\anaconda3\\lib\\site-packages (from google-generativeai->pgmpy) (2.9.2)\n",
      "Requirement already satisfied: google-auth>=2.15.0 in c:\\users\\saiganesh\\anaconda3\\lib\\site-packages (from google-generativeai->pgmpy) (2.35.0)\n",
      "Requirement already satisfied: google-api-python-client in c:\\users\\saiganesh\\anaconda3\\lib\\site-packages (from google-generativeai->pgmpy) (2.149.0)\n",
      "Requirement already satisfied: typing-extensions in c:\\users\\saiganesh\\anaconda3\\lib\\site-packages (from google-generativeai->pgmpy) (4.12.2)\n",
      "Requirement already satisfied: google-api-core in c:\\users\\saiganesh\\anaconda3\\lib\\site-packages (from google-generativeai->pgmpy) (2.21.0)\n",
      "Requirement already satisfied: google-ai-generativelanguage==0.6.10 in c:\\users\\saiganesh\\anaconda3\\lib\\site-packages (from google-generativeai->pgmpy) (0.6.10)\n",
      "Requirement already satisfied: proto-plus<2.0.0dev,>=1.22.3 in c:\\users\\saiganesh\\anaconda3\\lib\\site-packages (from google-ai-generativelanguage==0.6.10->google-generativeai->pgmpy) (1.24.0)\n",
      "Requirement already satisfied: pytz>=2020.1 in c:\\users\\saiganesh\\anaconda3\\lib\\site-packages (from pandas->pgmpy) (2022.7)\n",
      "Requirement already satisfied: python-dateutil>=2.8.1 in c:\\users\\saiganesh\\anaconda3\\lib\\site-packages (from pandas->pgmpy) (2.8.2)\n",
      "Requirement already satisfied: threadpoolctl>=2.0.0 in c:\\users\\saiganesh\\anaconda3\\lib\\site-packages (from scikit-learn->pgmpy) (2.2.0)\n",
      "Requirement already satisfied: packaging>=21.3 in c:\\users\\saiganesh\\anaconda3\\lib\\site-packages (from statsmodels->pgmpy) (22.0)\n",
      "Requirement already satisfied: patsy>=0.5.2 in c:\\users\\saiganesh\\anaconda3\\lib\\site-packages (from statsmodels->pgmpy) (0.5.3)\n",
      "Requirement already satisfied: colorama in c:\\users\\saiganesh\\anaconda3\\lib\\site-packages (from tqdm->pgmpy) (0.4.6)\n",
      "Requirement already satisfied: rsa<5,>=3.1.4 in c:\\users\\saiganesh\\anaconda3\\lib\\site-packages (from google-auth>=2.15.0->google-generativeai->pgmpy) (4.9)\n",
      "Requirement already satisfied: cachetools<6.0,>=2.0.0 in c:\\users\\saiganesh\\anaconda3\\lib\\site-packages (from google-auth>=2.15.0->google-generativeai->pgmpy) (5.3.3)\n",
      "Requirement already satisfied: pyasn1-modules>=0.2.1 in c:\\users\\saiganesh\\anaconda3\\lib\\site-packages (from google-auth>=2.15.0->google-generativeai->pgmpy) (0.2.8)\n",
      "Requirement already satisfied: six in c:\\users\\saiganesh\\anaconda3\\lib\\site-packages (from patsy>=0.5.2->statsmodels->pgmpy) (1.16.0)\n",
      "Requirement already satisfied: requests<3.0.0.dev0,>=2.18.0 in c:\\users\\saiganesh\\anaconda3\\lib\\site-packages (from google-api-core->google-generativeai->pgmpy) (2.28.1)\n",
      "Requirement already satisfied: googleapis-common-protos<2.0.dev0,>=1.56.2 in c:\\users\\saiganesh\\anaconda3\\lib\\site-packages (from google-api-core->google-generativeai->pgmpy) (1.65.0)\n",
      "Requirement already satisfied: httplib2<1.dev0,>=0.19.0 in c:\\users\\saiganesh\\anaconda3\\lib\\site-packages (from google-api-python-client->google-generativeai->pgmpy) (0.22.0)\n",
      "Requirement already satisfied: google-auth-httplib2<1.0.0,>=0.2.0 in c:\\users\\saiganesh\\anaconda3\\lib\\site-packages (from google-api-python-client->google-generativeai->pgmpy) (0.2.0)\n",
      "Requirement already satisfied: uritemplate<5,>=3.0.1 in c:\\users\\saiganesh\\anaconda3\\lib\\site-packages (from google-api-python-client->google-generativeai->pgmpy) (4.1.1)\n",
      "Requirement already satisfied: annotated-types>=0.6.0 in c:\\users\\saiganesh\\anaconda3\\lib\\site-packages (from pydantic->google-generativeai->pgmpy) (0.7.0)\n",
      "Requirement already satisfied: pydantic-core==2.23.4 in c:\\users\\saiganesh\\anaconda3\\lib\\site-packages (from pydantic->google-generativeai->pgmpy) (2.23.4)\n",
      "Requirement already satisfied: grpcio-status<2.0.dev0,>=1.33.2 in c:\\users\\saiganesh\\anaconda3\\lib\\site-packages (from google-api-core->google-generativeai->pgmpy) (1.67.0)\n",
      "Requirement already satisfied: grpcio<2.0dev,>=1.33.2 in c:\\users\\saiganesh\\anaconda3\\lib\\site-packages (from google-api-core->google-generativeai->pgmpy) (1.67.0)\n",
      "Requirement already satisfied: pyasn1<0.5.0,>=0.4.6 in c:\\users\\saiganesh\\anaconda3\\lib\\site-packages (from pyasn1-modules>=0.2.1->google-auth>=2.15.0->google-generativeai->pgmpy) (0.4.8)\n",
      "Requirement already satisfied: urllib3<1.27,>=1.21.1 in c:\\users\\saiganesh\\anaconda3\\lib\\site-packages (from requests<3.0.0.dev0,>=2.18.0->google-api-core->google-generativeai->pgmpy) (1.26.14)\n",
      "Requirement already satisfied: certifi>=2017.4.17 in c:\\users\\saiganesh\\anaconda3\\lib\\site-packages (from requests<3.0.0.dev0,>=2.18.0->google-api-core->google-generativeai->pgmpy) (2023.5.7)\n",
      "Requirement already satisfied: charset-normalizer<3,>=2 in c:\\users\\saiganesh\\anaconda3\\lib\\site-packages (from requests<3.0.0.dev0,>=2.18.0->google-api-core->google-generativeai->pgmpy) (2.0.4)\n",
      "Requirement already satisfied: idna<4,>=2.5 in c:\\users\\saiganesh\\anaconda3\\lib\\site-packages (from requests<3.0.0.dev0,>=2.18.0->google-api-core->google-generativeai->pgmpy) (3.4)\n"
     ]
    }
   ],
   "source": [
    "!pip install pgmpy"
   ]
  },
  {
   "cell_type": "code",
   "execution_count": 13,
   "id": "5bece8bc",
   "metadata": {},
   "outputs": [],
   "source": [
    "import pandas as pd\n",
    "from pgmpy.models import BayesianNetwork\n",
    "from pgmpy.estimators import MaximumLikelihoodEstimator\n",
    "from pgmpy.inference import VariableElimination"
   ]
  },
  {
   "cell_type": "code",
   "execution_count": 15,
   "id": "8c5672fa",
   "metadata": {},
   "outputs": [
    {
     "name": "stdout",
     "output_type": "stream",
     "text": [
      "    age  Gender  Family  diet  Lifestyle  cholestrol  heartdisease\n",
      "0     0       0       1     1          3           0             1\n",
      "1     0       1       1     1          3           0             1\n",
      "2     1       0       0     0          2           1             1\n",
      "3     4       0       1     1          3           2             0\n",
      "4     3       1       1     0          0           2             0\n",
      "5     2       0       1     1          1           0             1\n",
      "6     4       0       1     0          2           0             1\n",
      "7     0       0       1     1          3           0             1\n",
      "8     3       1       1     0          0           2             0\n",
      "9     1       1       0     0          0           2             1\n",
      "10    4       1       0     1          2           0             1\n",
      "11    4       0       1     1          3           2             0\n",
      "12    2       1       0     0          0           0             0\n",
      "13    2       0       1     1          1           0             1\n",
      "14    3       1       1     0          0           1             0\n",
      "15    0       0       1     0          0           2             1\n",
      "16    1       1       0     1          2           1             1\n",
      "17    3       1       1     1          0           1             0\n",
      "18    4       0       1     1          3           2             0\n"
     ]
    }
   ],
   "source": [
    "data = pd.read_csv(\"heart.csv\")\n",
    "heart_disease=pd.DataFrame(data)\n",
    "print(heart_disease)"
   ]
  },
  {
   "cell_type": "code",
   "execution_count": 16,
   "id": "507220ae",
   "metadata": {},
   "outputs": [],
   "source": [
    "model = BayesianNetwork([\n",
    "    ('age', 'Lifestyle'),\n",
    "    ('Gender', 'Lifestyle'),\n",
    "    ('Family', 'heartdisease'),\n",
    "    ('diet', 'cholestrol'),\n",
    "    ('Lifestyle', 'diet'),\n",
    "    ('cholestrol', 'heartdisease'),\n",
    "    ('diet', 'cholestrol')\n",
    "])"
   ]
  },
  {
   "cell_type": "code",
   "execution_count": 17,
   "id": "22156445",
   "metadata": {},
   "outputs": [],
   "source": [
    "model.fit(heart_disease, estimator=MaximumLikelihoodEstimator)"
   ]
  },
  {
   "cell_type": "code",
   "execution_count": 18,
   "id": "688ec132",
   "metadata": {},
   "outputs": [],
   "source": [
    "HeartDisease_infer = VariableElimination(model)"
   ]
  },
  {
   "cell_type": "code",
   "execution_count": 19,
   "id": "a44f2fa9",
   "metadata": {},
   "outputs": [
    {
     "name": "stdout",
     "output_type": "stream",
     "text": [
      "For Age enter SuperSeniorCitizen:0, SeniorCitizenL1, MiddleAged:2, Youth:3, Teen:4\n",
      "For Gender enter Male:0, Female:1\n",
      "For Family History Enter Yes:1, No:0\n",
      "For Diet Enter High:0, Medium:1\n",
      "For LifeStyle enter Athlete:0, Active:1, Moderate:2, Sedentary:3\n",
      "For Cholesterol enter High:0, BorderLine:1, Normal:2\n"
     ]
    }
   ],
   "source": [
    "print('For Age enter SuperSeniorCitizen:0, SeniorCitizenL1, MiddleAged:2, Youth:3, Teen:4')\n",
    "print('For Gender enter Male:0, Female:1')\n",
    "print('For Family History Enter Yes:1, No:0')\n",
    "print('For Diet Enter High:0, Medium:1')\n",
    "print('For LifeStyle enter Athlete:0, Active:1, Moderate:2, Sedentary:3')\n",
    "print('For Cholesterol enter High:0, BorderLine:1, Normal:2')"
   ]
  },
  {
   "cell_type": "code",
   "execution_count": 21,
   "id": "234b6616",
   "metadata": {},
   "outputs": [
    {
     "name": "stdout",
     "output_type": "stream",
     "text": [
      "Enter Age: 1\n",
      "Enter Gender: 1\n",
      "Enter Family History: 1\n",
      "Enter Diet:0\n",
      "Enter Lifestyle: 2\n",
      "Enter Cholesterol: 1\n"
     ]
    }
   ],
   "source": [
    "q= HeartDisease_infer.query(variables=['heartdisease'], evidence= {\n",
    "\n",
    "'age': int(input('Enter Age: ')),\n",
    "\n",
    "'Gender': int(input('Enter Gender: ')),\n",
    "\n",
    "'Family': int(input('Enter Family History: ')),\n",
    "\n",
    "'diet': int(input('Enter Diet:')),\n",
    "\n",
    "'Lifestyle': int(input('Enter Lifestyle: ')),\n",
    "\n",
    "'cholestrol': int(input('Enter Cholesterol: '))\n",
    "})"
   ]
  },
  {
   "cell_type": "code",
   "execution_count": 22,
   "id": "e974d967",
   "metadata": {},
   "outputs": [
    {
     "name": "stdout",
     "output_type": "stream",
     "text": [
      "+-----------------+---------------------+\n",
      "| heartdisease    |   phi(heartdisease) |\n",
      "+=================+=====================+\n",
      "| heartdisease(0) |              1.0000 |\n",
      "+-----------------+---------------------+\n",
      "| heartdisease(1) |              0.0000 |\n",
      "+-----------------+---------------------+\n"
     ]
    }
   ],
   "source": [
    "print(q)"
   ]
  },
  {
   "cell_type": "code",
   "execution_count": null,
   "id": "51c58d5e",
   "metadata": {},
   "outputs": [],
   "source": []
  }
 ],
 "metadata": {
  "kernelspec": {
   "display_name": "Python 3 (ipykernel)",
   "language": "python",
   "name": "python3"
  },
  "language_info": {
   "codemirror_mode": {
    "name": "ipython",
    "version": 3
   },
   "file_extension": ".py",
   "mimetype": "text/x-python",
   "name": "python",
   "nbconvert_exporter": "python",
   "pygments_lexer": "ipython3",
   "version": "3.10.9"
  }
 },
 "nbformat": 4,
 "nbformat_minor": 5
}
